{
 "cells": [
  {
   "cell_type": "code",
   "execution_count": null,
   "id": "2f8f74e6",
   "metadata": {},
   "outputs": [],
   "source": [
    "from astropy.io import fits\n",
    "from astropy.wcs import WCS\n",
    "from reproject import reproject_interp\n",
    "\n",
    "files = {\n",
    "    'F090W':    'data/jw02732-o001_t001_nircam_clear-f090w_i2d.fits',\n",
    "    'F150M':    'data/jw02732-o001_t001_nircam_clear-f150w_i2d.fits',\n",
    "    'F200M':    'data/jw02732-o001_t001_nircam_clear-f200w_i2d.fits',\n",
    "    'F277M':    'data/jw02732-o001_t001_nircam_clear-f277w_i2d.fits',\n",
    "    'F356M':    'data/jw02732-o001_t001_nircam_clear-f356w_i2d.fits',\n",
    "    'F444M':    'data/jw02732-o001_t001_nircam_clear-f444w_i2d.fits',\n",
    "    'F770W1':   'data/jw02732-o002_t001_miri_f770w_i2d.fits',\n",
    "    'F1000W1':  'data/jw02732-o002_t001_miri_f1000w_i2d.fits'\n",
    "}"
   ]
  },
  {
   "cell_type": "code",
   "execution_count": null,
   "id": "2a243738",
   "metadata": {},
   "outputs": [
    {
     "name": "stdout",
     "output_type": "stream",
     "text": [
      "Reference Shape: (6057, 7090)\n"
     ]
    },
    {
     "name": "stderr",
     "output_type": "stream",
     "text": [
      "WARNING: FITSFixedWarning: 'datfix' made the change 'Set DATE-BEG to '2022-06-11T15:59:35.100' from MJD-BEG.\n",
      "Set DATE-AVG to '2022-06-11T20:36:20.644' from MJD-AVG.\n",
      "Set DATE-END to '2022-06-12T01:13:06.238' from MJD-END'. [astropy.wcs.wcs]\n",
      "WARNING: FITSFixedWarning: 'obsfix' made the change 'Set OBSGEO-L to   -78.683006 from OBSGEO-[XYZ].\n",
      "Set OBSGEO-B to   -34.294485 from OBSGEO-[XYZ].\n",
      "Set OBSGEO-H to 1698349907.940 from OBSGEO-[XYZ]'. [astropy.wcs.wcs]\n"
     ]
    }
   ],
   "source": [
    "# Select a reference image (largest one for best quality)\n",
    "reference = files['F277M']\n",
    "\n",
    "with fits.open(reference) as hdul:\n",
    "    ref_data = hdul['SCI'].data\n",
    "    ref_wcs = WCS(hdul['SCI'].header) # WCS = World Coordinate System\n",
    "    ref_shape = ref_data.shape\n",
    "\n",
    "print(\"Reference Shape:\", ref_shape)"
   ]
  },
  {
   "cell_type": "code",
   "execution_count": null,
   "id": "c463c6c0",
   "metadata": {},
   "outputs": [],
   "source": [
    "# If you don't have enough RAM to process the files, you can scale the image down\n",
    "#scale = 0.7  # Scale factor\n",
    "#ref_shape = (int(ref_shape[0] * scale), int(ref_shape[1] * scale))"
   ]
  },
  {
   "cell_type": "code",
   "execution_count": null,
   "id": "74de9487",
   "metadata": {},
   "outputs": [
    {
     "name": "stderr",
     "output_type": "stream",
     "text": [
      "WARNING: FITSFixedWarning: 'datfix' made the change 'Set DATE-BEG to '2022-06-11T15:59:35.100' from MJD-BEG.\n",
      "Set DATE-AVG to '2022-06-11T20:36:20.627' from MJD-AVG.\n",
      "Set DATE-END to '2022-06-12T01:13:06.238' from MJD-END'. [astropy.wcs.wcs]\n",
      "WARNING: FITSFixedWarning: 'obsfix' made the change 'Set OBSGEO-L to   -78.683006 from OBSGEO-[XYZ].\n",
      "Set OBSGEO-B to   -34.294485 from OBSGEO-[XYZ].\n",
      "Set OBSGEO-H to 1698349904.538 from OBSGEO-[XYZ]'. [astropy.wcs.wcs]\n",
      "WARNING: Could not memory map array with mode='readonly', falling back to mode='denywrite', which means that the array will be read-only [astropy.io.fits.file]\n",
      "WARNING: FITSFixedWarning: 'datfix' made the change 'Set DATE-BEG to '2022-06-11T16:33:35.099' from MJD-BEG.\n",
      "Set DATE-AVG to '2022-06-11T21:10:27.249' from MJD-AVG.\n",
      "Set DATE-END to '2022-06-12T01:47:06.236' from MJD-END'. [astropy.wcs.wcs]\n",
      "WARNING: FITSFixedWarning: 'obsfix' made the change 'Set OBSGEO-L to   -78.672358 from OBSGEO-[XYZ].\n",
      "Set OBSGEO-B to   -34.301291 from OBSGEO-[XYZ].\n",
      "Set OBSGEO-H to 1698458271.598 from OBSGEO-[XYZ]'. [astropy.wcs.wcs]\n",
      "WARNING: FITSFixedWarning: 'datfix' made the change 'Set DATE-BEG to '2022-06-11T17:07:45.849' from MJD-BEG.\n",
      "Set DATE-AVG to '2022-06-11T21:44:35.306' from MJD-AVG.\n",
      "Set DATE-END to '2022-06-12T02:21:27.738' from MJD-END'. [astropy.wcs.wcs]\n",
      "WARNING: FITSFixedWarning: 'obsfix' made the change 'Set OBSGEO-L to   -78.661660 from OBSGEO-[XYZ].\n",
      "Set OBSGEO-B to   -34.308128 from OBSGEO-[XYZ].\n",
      "Set OBSGEO-H to 1698567028.021 from OBSGEO-[XYZ]'. [astropy.wcs.wcs]\n",
      "WARNING: FITSFixedWarning: 'datfix' made the change 'Set DATE-BEG to '2022-06-11T16:33:35.099' from MJD-BEG.\n",
      "Set DATE-AVG to '2022-06-11T21:10:27.264' from MJD-AVG.\n",
      "Set DATE-END to '2022-06-12T01:47:06.236' from MJD-END'. [astropy.wcs.wcs]\n",
      "WARNING: FITSFixedWarning: 'datfix' made the change 'Set DATE-BEG to '2022-06-11T17:07:45.849' from MJD-BEG.\n",
      "Set DATE-AVG to '2022-06-11T21:44:35.324' from MJD-AVG.\n",
      "Set DATE-END to '2022-06-12T02:21:27.738' from MJD-END'. [astropy.wcs.wcs]\n",
      "WARNING: FITSFixedWarning: 'obsfix' made the change 'Set OBSGEO-L to   -78.661659 from OBSGEO-[XYZ].\n",
      "Set OBSGEO-B to   -34.308128 from OBSGEO-[XYZ].\n",
      "Set OBSGEO-H to 1698567031.412 from OBSGEO-[XYZ]'. [astropy.wcs.wcs]\n",
      "WARNING: FITSFixedWarning: 'datfix' made the change 'Set DATE-BEG to '2022-06-12T18:00:41.233' from MJD-BEG.\n",
      "Set DATE-AVG to '2022-06-12T19:13:12.796' from MJD-AVG.\n",
      "Set DATE-END to '2022-06-12T20:25:38.415' from MJD-END'. [astropy.wcs.wcs]\n",
      "WARNING: FITSFixedWarning: 'obsfix' made the change 'Set OBSGEO-L to   -78.199222 from OBSGEO-[XYZ].\n",
      "Set OBSGEO-B to   -34.601319 from OBSGEO-[XYZ].\n",
      "Set OBSGEO-H to 1703133798.865 from OBSGEO-[XYZ]'. [astropy.wcs.wcs]\n",
      "WARNING: FITSFixedWarning: 'datfix' made the change 'Set DATE-BEG to '2022-06-12T18:36:15.311' from MJD-BEG.\n",
      "Set DATE-AVG to '2022-06-12T19:48:48.942' from MJD-AVG.\n",
      "Set DATE-END to '2022-06-12T21:01:29.133' from MJD-END'. [astropy.wcs.wcs]\n",
      "WARNING: FITSFixedWarning: 'obsfix' made the change 'Set OBSGEO-L to   -78.188317 from OBSGEO-[XYZ].\n",
      "Set OBSGEO-B to   -34.608183 from OBSGEO-[XYZ].\n",
      "Set OBSGEO-H to 1703238071.509 from OBSGEO-[XYZ]'. [astropy.wcs.wcs]\n"
     ]
    }
   ],
   "source": [
    "# Note that the original file is reprojected with itself in case you used scaling\n",
    "for key, source_path in files.items():\n",
    "    with fits.open(source_path) as hdul:\n",
    "        source_data = hdul['SCI'].data\n",
    "        source_wcs = WCS(hdul['SCI'].header)\n",
    "\n",
    "    # Do the reprojection\n",
    "    reproj_data, _ = reproject_interp((source_data, source_wcs), ref_wcs, shape_out=ref_shape)\n",
    "\n",
    "    # Save the result\n",
    "    fits.writeto(f\"reprojected/{key}.fits\", reproj_data, ref_wcs.to_header(), overwrite=True)"
   ]
  }
 ],
 "metadata": {
  "kernelspec": {
   "display_name": "Python 3",
   "language": "python",
   "name": "python3"
  },
  "language_info": {
   "codemirror_mode": {
    "name": "ipython",
    "version": 3
   },
   "file_extension": ".py",
   "mimetype": "text/x-python",
   "name": "python",
   "nbconvert_exporter": "python",
   "pygments_lexer": "ipython3",
   "version": "3.12.5"
  }
 },
 "nbformat": 4,
 "nbformat_minor": 5
}

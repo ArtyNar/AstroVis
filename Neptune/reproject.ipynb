{
 "cells": [
  {
   "cell_type": "code",
   "execution_count": 1,
   "id": "2f8f74e6",
   "metadata": {},
   "outputs": [],
   "source": [
    "from astropy.io import fits\n",
    "from astropy.wcs import WCS\n",
    "from reproject import reproject_interp\n",
    "\n",
    "files = {\n",
    "    'F140M': 'data/jw02739-o011_t002_nircam_clear-f140m_i2d.fits',\n",
    "    'F210M': 'data/jw02739-o011_t002_nircam_clear-f210m_i2d.fits',\n",
    "    'F300M': 'data/jw02739-o011_t002_nircam_clear-f300m_i2d.fits',\n",
    "    'F460M': 'data/jw02739-o011_t002_nircam_clear-f460m_i2d.fits',\n",
    "}"
   ]
  },
  {
   "cell_type": "code",
   "execution_count": 2,
   "id": "2a243738",
   "metadata": {},
   "outputs": [
    {
     "name": "stdout",
     "output_type": "stream",
     "text": [
      "Reference Shape: (4707, 4544)\n"
     ]
    },
    {
     "name": "stderr",
     "output_type": "stream",
     "text": [
      "WARNING: FITSFixedWarning: 'datfix' made the change 'Set DATE-BEG to '2023-09-04T22:09:56.261' from MJD-BEG.\n",
      "Set DATE-AVG to '2023-09-04T22:47:44.415' from MJD-AVG.\n",
      "Set DATE-END to '2023-09-04T23:34:13.335' from MJD-END'. [astropy.wcs.wcs]\n",
      "WARNING: FITSFixedWarning: 'obsfix' made the change 'Set OBSGEO-L to   -43.183621 from OBSGEO-[XYZ].\n",
      "Set OBSGEO-B to   -11.391210 from OBSGEO-[XYZ].\n",
      "Set OBSGEO-H to 1391550930.850 from OBSGEO-[XYZ]'. [astropy.wcs.wcs]\n"
     ]
    }
   ],
   "source": [
    "# Select a reference image (largest one for best quality)\n",
    "reference = files['F140M']\n",
    "\n",
    "with fits.open(reference) as hdul:\n",
    "    ref_data = hdul['SCI'].data\n",
    "    ref_wcs = WCS(hdul['SCI'].header) # WCS = World Coordinate System\n",
    "    ref_shape = ref_data.shape\n",
    "\n",
    "print(\"Reference Shape:\", ref_shape)"
   ]
  },
  {
   "cell_type": "code",
   "execution_count": null,
   "id": "c463c6c0",
   "metadata": {},
   "outputs": [],
   "source": [
    "# If you don't have enough RAM to process the files, you can scale the image down\n",
    "#scale = 0.7  # Scale factor\n",
    "#ref_shape = (int(ref_shape[0] * scale), int(ref_shape[1] * scale))"
   ]
  },
  {
   "cell_type": "code",
   "execution_count": 3,
   "id": "74de9487",
   "metadata": {},
   "outputs": [
    {
     "name": "stderr",
     "output_type": "stream",
     "text": [
      "WARNING: FITSFixedWarning: 'datfix' made the change 'Set DATE-BEG to '2023-09-04T22:34:05.732' from MJD-BEG.\n",
      "Set DATE-AVG to '2023-09-04T23:20:30.334' from MJD-AVG.\n",
      "Set DATE-END to '2023-09-05T00:15:33.525' from MJD-END'. [astropy.wcs.wcs]\n",
      "WARNING: FITSFixedWarning: 'obsfix' made the change 'Set OBSGEO-L to   -43.162479 from OBSGEO-[XYZ].\n",
      "Set OBSGEO-B to   -11.374749 from OBSGEO-[XYZ].\n",
      "Set OBSGEO-H to 1391358914.671 from OBSGEO-[XYZ]'. [astropy.wcs.wcs]\n",
      "WARNING: FITSFixedWarning: 'datfix' made the change 'Set DATE-BEG to '2023-09-04T22:09:56.261' from MJD-BEG.\n",
      "Set DATE-AVG to '2023-09-04T22:47:44.423' from MJD-AVG.\n",
      "Set DATE-END to '2023-09-04T23:34:13.335' from MJD-END'. [astropy.wcs.wcs]\n",
      "WARNING: FITSFixedWarning: 'datfix' made the change 'Set DATE-BEG to '2023-09-04T22:34:05.732' from MJD-BEG.\n",
      "Set DATE-AVG to '2023-09-04T23:20:30.347' from MJD-AVG.\n",
      "Set DATE-END to '2023-09-05T00:15:33.525' from MJD-END'. [astropy.wcs.wcs]\n"
     ]
    }
   ],
   "source": [
    "# Note that the original file is reprojected with itself in case you used scaling\n",
    "for key, source_path in files.items():\n",
    "    with fits.open(source_path) as hdul:\n",
    "        source_data = hdul['SCI'].data\n",
    "        source_wcs = WCS(hdul['SCI'].header)\n",
    "\n",
    "    # Do the reprojection\n",
    "    reproj_data, _ = reproject_interp((source_data, source_wcs), ref_wcs, shape_out=ref_shape)\n",
    "\n",
    "    # Save the result\n",
    "    fits.writeto(f\"reprojected/{key}.fits\", reproj_data, ref_wcs.to_header(), overwrite=True)"
   ]
  }
 ],
 "metadata": {
  "kernelspec": {
   "display_name": "Python cs5635env",
   "language": "python",
   "name": "cs5635env"
  },
  "language_info": {
   "codemirror_mode": {
    "name": "ipython",
    "version": 3
   },
   "file_extension": ".py",
   "mimetype": "text/x-python",
   "name": "python",
   "nbconvert_exporter": "python",
   "pygments_lexer": "ipython3",
   "version": "3.12.7"
  }
 },
 "nbformat": 4,
 "nbformat_minor": 5
}

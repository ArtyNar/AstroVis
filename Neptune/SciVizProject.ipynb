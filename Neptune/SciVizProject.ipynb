{
 "cells": [
  {
   "cell_type": "code",
   "execution_count": null,
   "id": "4e49c3a4-948e-438f-9d91-d8d935913d97",
   "metadata": {},
   "outputs": [],
   "source": [
    "from astropy.io import fits\n",
    "import numpy as np\n",
    "import matplotlib.pyplot as plt\n",
    "from skimage.exposure import rescale_intensity\n",
    "from skimage.transform import resize\n",
    "\n",
    "files = {\n",
    "    'F140M': 'jw02739-o011_t002_nircam_clear-f140m_i2d.fits',\n",
    "    'F210M': 'jw02739-o011_t002_nircam_clear-f210m_i2d.fits',\n",
    "    'F300M': 'jw02739-o011_t002_nircam_clear-f300m_i2d.fits',\n",
    "    'F460M': 'jw02739-o011_t002_nircam_clear-f460m_i2d.fits',\n",
    "}\n",
    "\n",
    "# Load and preprocess each image\n",
    "def load_and_clean(filename):\n",
    "    data = fits.open(filename)[1].data\n",
    "    data = np.nan_to_num(data, nan=0.0)\n",
    "    data[data < 0] = 0\n",
    "    return np.log10(data + 1e-3)\n",
    "\n",
    "def normalize(image):\n",
    "    return rescale_intensity(image, in_range='image', out_range=(0, 1))\n",
    "\n",
    "# Load all four images\n",
    "f140 = normalize(load_and_clean(files['F140M']))\n",
    "f210 = normalize(load_and_clean(files['F210M']))\n",
    "f300 = normalize(load_and_clean(files['F300M']))\n",
    "f460 = normalize(load_and_clean(files['F460M']))\n",
    "\n",
    "# Find the smallest shape among all images\n",
    "min_shape = (min(f140.shape[0], f210.shape[0], f300.shape[0], f460.shape[0]),\n",
    "             min(f140.shape[1], f210.shape[1], f300.shape[1], f460.shape[1]))\n",
    "\n",
    "# Resize all images to the smallest shape\n",
    "f140_resized = resize(f140, min_shape, mode='reflect', anti_aliasing=True)\n",
    "f210_resized = resize(f210, min_shape, mode='reflect', anti_aliasing=True)\n",
    "f300_resized = resize(f300, min_shape, mode='reflect', anti_aliasing=True)\n",
    "f460_resized = resize(f460, min_shape, mode='reflect', anti_aliasing=True)\n",
    "\n",
    "# Build RGB channels\n",
    "r = f300_resized + f460_resized * 1.0\n",
    "g = f210_resized + f300_resized + f460_resized * 0.5\n",
    "b = f140_resized + f210_resized\n",
    "\n",
    "# Stack and normalize RGB image\n",
    "rgb = np.stack([r, g, b], axis=-1)\n",
    "rgb = np.clip(rgb / np.max(rgb), 0, 1)\n",
    "\n",
    "plt.figure(figsize=(12, 12))\n",
    "plt.imshow(rgb, origin='lower')\n",
    "plt.title(\"JWST Color Composite: F140M (Blue), F210M (Cyan), F300M (Yellow), F460M (Orange)\", fontsize=14)\n",
    "plt.axis('off')\n",
    "plt.show()\n"
   ]
  }
 ],
 "metadata": {
  "kernelspec": {
   "display_name": "Python 3 (ipykernel)",
   "language": "python",
   "name": "python3"
  },
  "language_info": {
   "codemirror_mode": {
    "name": "ipython",
    "version": 3
   },
   "file_extension": ".py",
   "mimetype": "text/x-python",
   "name": "python",
   "nbconvert_exporter": "python",
   "pygments_lexer": "ipython3",
   "version": "3.11.7"
  }
 },
 "nbformat": 4,
 "nbformat_minor": 5
}
